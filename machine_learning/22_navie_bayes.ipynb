{
 "cells": [
  {
   "cell_type": "markdown",
   "metadata": {},
   "source": [
    "# NAIVE Bayes alogorithm\n",
    "\n",
    "## Introduction:\n",
    "Naive Bayes is a classification algorithm based on Bayes' theorem. It is not a single algorithm but a family of algorithms where all of them share a common principle, i.e. every pair of features being classified is independent of each other.\n",
    "\n",
    "\n",
    "## Bayes' Theorem:\n",
    "Bayes' theorem is also known as Bayes' Rule or Bayes' law, which is used to determine the probability of a hypothesis with prior knowledge. It depends on the conditional probability.\n",
    "\n",
    "## Conditional Probability:\n",
    "Conditional probability is the probability of an event occurring, assuming that another event has already occurred. For example, if you are in a meeting, what is the probability of your phone ringing? The answer is based on the probability of your phone ringing when you are not in a meeting and the probability of you being in a meeting.\n",
    "\n",
    "## Bayes' Theorem Formula:\n",
    "\n",
    "$$P(A|B) = \\frac{P(B|A)P(A)}{P(B)}$$\n",
    "    \n",
    "    where A and B are events and P(B) != 0.\n",
    "    In the formula, $P(B|A)$ is called the conditional probability of event B given that event A has occurred. This means if\n",
    "    $P(A)$ is the probability of event A, then $P(B|A)$ is the probability of event B given that event A has occurred.\n",
    "    Similarly, $P(A|B)$ is the probability of event A given that event B has occurred.\n",
    "    The denominator P(B) represents the probability of just event B occurring.\n",
    "    \n",
    "\n"
   ]
  },
  {
   "cell_type": "code",
   "execution_count": 55,
   "metadata": {},
   "outputs": [],
   "source": [
    "# import libraries \n",
    "import pandas as pd\n",
    "import numpy as np \n",
    "import matplotlib.pyplot as plt\n",
    "import seaborn as sns\n",
    "\n",
    "from sklearn.naive_bayes import GaussianNB ,MultinomialNB , BernoulliNB\n",
    "from sklearn.model_selection import train_test_split \n",
    "from sklearn.metrics import accuracy_score, confusion_matrix, classification_report\n",
    "from sklearn.datasets import load_iris"
   ]
  },
  {
   "cell_type": "code",
   "execution_count": 56,
   "metadata": {},
   "outputs": [],
   "source": [
    "# load the data set \n",
    "iris = load_iris()\n",
    "X = iris.data \n",
    "y = iris.target\n",
    "\n",
    "#train dataset \n",
    "X_train, X_test, y_train, y_test = train_test_split(X, y, test_size=0.3)\n"
   ]
  },
  {
   "cell_type": "code",
   "execution_count": 57,
   "metadata": {},
   "outputs": [
    {
     "name": "stdout",
     "output_type": "stream",
     "text": [
      "Accurracy score 0.9555555555555556\n",
      "Confusion matrix: \n",
      " [[23  0  0]\n",
      " [ 0  6  1]\n",
      " [ 0  1 14]]\n",
      "Classification report: \n",
      "               precision    recall  f1-score   support\n",
      "\n",
      "           0       1.00      1.00      1.00        23\n",
      "           1       0.86      0.86      0.86         7\n",
      "           2       0.93      0.93      0.93        15\n",
      "\n",
      "    accuracy                           0.96        45\n",
      "   macro avg       0.93      0.93      0.93        45\n",
      "weighted avg       0.96      0.96      0.96        45\n",
      "\n"
     ]
    }
   ],
   "source": [
    "# model initialize \n",
    "\n",
    "gnb = GaussianNB()\n",
    "\n",
    "# model training    \n",
    "gnb.fit(X_train, y_train)\n",
    "\n",
    "#predict the test data\n",
    "y_pred = gnb.predict(X_test)\n",
    "\n",
    "# model evaluation\n",
    "print(\"Accurracy score\", accuracy_score(y_test,y_pred))\n",
    "print(\"Confusion matrix: \\n\", confusion_matrix(y_test,y_pred))\n",
    "print(\"Classification report: \\n\", classification_report(y_test,y_pred))\n",
    "\n",
    "\n",
    "\n",
    "\n"
   ]
  },
  {
   "cell_type": "code",
   "execution_count": 58,
   "metadata": {},
   "outputs": [
    {
     "name": "stdout",
     "output_type": "stream",
     "text": [
      "Accurracy score 0.9555555555555556\n",
      "Confusion matrix: \n",
      " [[23  0  0]\n",
      " [ 0  6  1]\n",
      " [ 0  1 14]]\n",
      "Classification report: \n",
      "               precision    recall  f1-score   support\n",
      "\n",
      "           0       1.00      1.00      1.00        23\n",
      "           1       0.86      0.86      0.86         7\n",
      "           2       0.93      0.93      0.93        15\n",
      "\n",
      "    accuracy                           0.96        45\n",
      "   macro avg       0.93      0.93      0.93        45\n",
      "weighted avg       0.96      0.96      0.96        45\n",
      "\n"
     ]
    }
   ],
   "source": [
    "# model intialize\n",
    "\n",
    "mnb = MultinomialNB()\n",
    "\n",
    "# model training\n",
    "gnb.fit(X_train, y_train)\n",
    "\n",
    "#predict the test data\n",
    "y_pred = gnb.predict(X_test)\n",
    "\n",
    "# model evaluation\n",
    "print(\"Accurracy score\", accuracy_score(y_test,y_pred))\n",
    "print(\"Confusion matrix: \\n\", confusion_matrix(y_test,y_pred))\n",
    "print(\"Classification report: \\n\", classification_report(y_test,y_pred))\n",
    "\n",
    "\n"
   ]
  },
  {
   "cell_type": "code",
   "execution_count": 59,
   "metadata": {},
   "outputs": [
    {
     "name": "stdout",
     "output_type": "stream",
     "text": [
      "Accurracy score 0.9555555555555556\n",
      "Confusion matrix: \n",
      " [[23  0  0]\n",
      " [ 0  6  1]\n",
      " [ 0  1 14]]\n",
      "Classification report: \n",
      "               precision    recall  f1-score   support\n",
      "\n",
      "           0       1.00      1.00      1.00        23\n",
      "           1       0.86      0.86      0.86         7\n",
      "           2       0.93      0.93      0.93        15\n",
      "\n",
      "    accuracy                           0.96        45\n",
      "   macro avg       0.93      0.93      0.93        45\n",
      "weighted avg       0.96      0.96      0.96        45\n",
      "\n"
     ]
    }
   ],
   "source": [
    "# mode intialized \n",
    "\n",
    "bnb = BernoulliNB()\n",
    "\n",
    "\n",
    "# model training\n",
    "gnb.fit(X_train, y_train)\n",
    "\n",
    "#predict the test data\n",
    "y_pred = gnb.predict(X_test)\n",
    "\n",
    "# model evaluation\n",
    "print(\"Accurracy score\", accuracy_score(y_test,y_pred))\n",
    "print(\"Confusion matrix: \\n\", confusion_matrix(y_test,y_pred))\n",
    "print(\"Classification report: \\n\", classification_report(y_test,y_pred))"
   ]
  }
 ],
 "metadata": {
  "kernelspec": {
   "display_name": "ML_env",
   "language": "python",
   "name": "python3"
  },
  "language_info": {
   "codemirror_mode": {
    "name": "ipython",
    "version": 3
   },
   "file_extension": ".py",
   "mimetype": "text/x-python",
   "name": "python",
   "nbconvert_exporter": "python",
   "pygments_lexer": "ipython3",
   "version": "3.11.5"
  }
 },
 "nbformat": 4,
 "nbformat_minor": 2
}
