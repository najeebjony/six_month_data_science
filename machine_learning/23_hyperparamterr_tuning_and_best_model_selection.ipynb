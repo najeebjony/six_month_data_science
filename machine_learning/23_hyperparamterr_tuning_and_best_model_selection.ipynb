{
 "cells": [
  {
   "cell_type": "markdown",
   "metadata": {},
   "source": [
    "# **Selecting the best model with best hyperparameters**"
   ]
  },
  {
   "cell_type": "code",
   "execution_count": 9,
   "metadata": {},
   "outputs": [],
   "source": [
    "import pandas as pd\n",
    "import numpy as np\n",
    "import matplotlib.pyplot as plt\n",
    "import seaborn as sns\n",
    "\n",
    "# train test split the data \n",
    "from sklearn.model_selection import train_test_split\n",
    "from sklearn.preprocessing import LabelEncoder\n",
    "\n",
    "#import regression algorithms\n",
    "from sklearn.linear_model import LinearRegression\n",
    "from sklearn.svm import SVR\n",
    "from sklearn.tree import DecisionTreeRegressor\n",
    "from sklearn.ensemble import RandomForestRegressor\n",
    "from sklearn.neighbors import KNeighborsRegressor\n",
    "from sklearn.ensemble import GradientBoostingRegressor\n",
    "from xgboost import XGBRegressor\n",
    "from sklearn.metrics import mean_squared_error, mean_absolute_error, r2_score\n",
    "\n",
    "# import grid search cv for cross validation\n",
    "from sklearn.model_selection import GridSearchCV\n",
    "\n",
    "# import preprocessors \n",
    "from sklearn.preprocessing import StandardScaler, MinMaxScaler\n",
    "from sklearn.compose import ColumnTransformer\n",
    "from sklearn.pipeline import Pipeline"
   ]
  },
  {
   "cell_type": "code",
   "execution_count": 10,
   "metadata": {},
   "outputs": [],
   "source": [
    "df = sns.load_dataset('tips')"
   ]
  },
  {
   "cell_type": "code",
   "execution_count": 11,
   "metadata": {},
   "outputs": [
    {
     "data": {
      "text/html": [
       "<div>\n",
       "<style scoped>\n",
       "    .dataframe tbody tr th:only-of-type {\n",
       "        vertical-align: middle;\n",
       "    }\n",
       "\n",
       "    .dataframe tbody tr th {\n",
       "        vertical-align: top;\n",
       "    }\n",
       "\n",
       "    .dataframe thead th {\n",
       "        text-align: right;\n",
       "    }\n",
       "</style>\n",
       "<table border=\"1\" class=\"dataframe\">\n",
       "  <thead>\n",
       "    <tr style=\"text-align: right;\">\n",
       "      <th></th>\n",
       "      <th>total_bill</th>\n",
       "      <th>tip</th>\n",
       "      <th>sex</th>\n",
       "      <th>smoker</th>\n",
       "      <th>day</th>\n",
       "      <th>time</th>\n",
       "      <th>size</th>\n",
       "    </tr>\n",
       "  </thead>\n",
       "  <tbody>\n",
       "    <tr>\n",
       "      <th>0</th>\n",
       "      <td>16.99</td>\n",
       "      <td>1.01</td>\n",
       "      <td>Female</td>\n",
       "      <td>No</td>\n",
       "      <td>Sun</td>\n",
       "      <td>Dinner</td>\n",
       "      <td>2</td>\n",
       "    </tr>\n",
       "    <tr>\n",
       "      <th>1</th>\n",
       "      <td>10.34</td>\n",
       "      <td>1.66</td>\n",
       "      <td>Male</td>\n",
       "      <td>No</td>\n",
       "      <td>Sun</td>\n",
       "      <td>Dinner</td>\n",
       "      <td>3</td>\n",
       "    </tr>\n",
       "    <tr>\n",
       "      <th>2</th>\n",
       "      <td>21.01</td>\n",
       "      <td>3.50</td>\n",
       "      <td>Male</td>\n",
       "      <td>No</td>\n",
       "      <td>Sun</td>\n",
       "      <td>Dinner</td>\n",
       "      <td>3</td>\n",
       "    </tr>\n",
       "    <tr>\n",
       "      <th>3</th>\n",
       "      <td>23.68</td>\n",
       "      <td>3.31</td>\n",
       "      <td>Male</td>\n",
       "      <td>No</td>\n",
       "      <td>Sun</td>\n",
       "      <td>Dinner</td>\n",
       "      <td>2</td>\n",
       "    </tr>\n",
       "    <tr>\n",
       "      <th>4</th>\n",
       "      <td>24.59</td>\n",
       "      <td>3.61</td>\n",
       "      <td>Female</td>\n",
       "      <td>No</td>\n",
       "      <td>Sun</td>\n",
       "      <td>Dinner</td>\n",
       "      <td>4</td>\n",
       "    </tr>\n",
       "  </tbody>\n",
       "</table>\n",
       "</div>"
      ],
      "text/plain": [
       "   total_bill   tip     sex smoker  day    time  size\n",
       "0       16.99  1.01  Female     No  Sun  Dinner     2\n",
       "1       10.34  1.66    Male     No  Sun  Dinner     3\n",
       "2       21.01  3.50    Male     No  Sun  Dinner     3\n",
       "3       23.68  3.31    Male     No  Sun  Dinner     2\n",
       "4       24.59  3.61  Female     No  Sun  Dinner     4"
      ]
     },
     "execution_count": 11,
     "metadata": {},
     "output_type": "execute_result"
    }
   ],
   "source": [
    "df.head()\n"
   ]
  },
  {
   "cell_type": "code",
   "execution_count": 12,
   "metadata": {},
   "outputs": [
    {
     "data": {
      "text/plain": [
       "Index(['total_bill', 'tip', 'sex', 'smoker', 'day', 'time', 'size'], dtype='object')"
      ]
     },
     "execution_count": 12,
     "metadata": {},
     "output_type": "execute_result"
    }
   ],
   "source": [
    "df.columns"
   ]
  },
  {
   "cell_type": "markdown",
   "metadata": {},
   "source": [
    "# Regression Task"
   ]
  },
  {
   "cell_type": "code",
   "execution_count": 13,
   "metadata": {},
   "outputs": [],
   "source": [
    "# select features and variables\n",
    "\n",
    "X = df.drop('tip',axis=1)\n",
    "y = df['tip']\n",
    "\n",
    "# lable encode categorical variable \n",
    "le = LabelEncoder()\n",
    "X['sex'] = le.fit_transform(X['sex'])\n",
    "X['smoker'] = le.fit_transform(X['smoker'])\n",
    "X['day'] = le.fit_transform(X['day'])\n",
    "X['time'] = le.fit_transform(X['time'])\n",
    "\n",
    "# split the data into traon and test data with 80% training dataset \n",
    "X_train, X_test, y_train, y_test = train_test_split(X, y, test_size=0.2,)"
   ]
  },
  {
   "cell_type": "code",
   "execution_count": 16,
   "metadata": {},
   "outputs": [
    {
     "name": "stdout",
     "output_type": "stream",
     "text": [
      "r2_score LinearRegression is  0.566635\n",
      "r2_score LinearRegression is  0.566635\n",
      "r2_score SVR is  0.541012\n",
      "r2_score LinearRegression is  0.566635\n",
      "r2_score SVR is  0.541012\n",
      "r2_score DecisionTreeRegressor is  0.398516\n",
      "r2_score LinearRegression is  0.566635\n",
      "r2_score SVR is  0.541012\n",
      "r2_score RandomForestRegressor is  0.471696\n",
      "r2_score DecisionTreeRegressor is  0.398516\n",
      "r2_score LinearRegression is  0.566635\n",
      "r2_score SVR is  0.541012\n",
      "r2_score RandomForestRegressor is  0.471696\n",
      "r2_score KNeighborsRegressor is  0.434495\n",
      "r2_score DecisionTreeRegressor is  0.398516\n",
      "r2_score LinearRegression is  0.566635\n",
      "r2_score SVR is  0.541012\n",
      "r2_score RandomForestRegressor is  0.471696\n",
      "r2_score GradientBoostingRegressor is  0.443194\n",
      "r2_score KNeighborsRegressor is  0.434495\n",
      "r2_score DecisionTreeRegressor is  0.398516\n",
      "r2_score LinearRegression is  0.566635\n",
      "r2_score SVR is  0.541012\n",
      "r2_score RandomForestRegressor is  0.471696\n",
      "r2_score GradientBoostingRegressor is  0.443194\n",
      "r2_score KNeighborsRegressor is  0.434495\n",
      "r2_score DecisionTreeRegressor is  0.398516\n",
      "r2_score XGBRegressor is  0.230213\n"
     ]
    }
   ],
   "source": [
    "# create a dictionies of list of  model to evaluate performance \n",
    "\n",
    "models = {\n",
    "    \"LinearRegression\" : LinearRegression(),\n",
    "    \"SVR\": SVR(),\n",
    "    \"DecisionTreeRegressor\" : DecisionTreeRegressor(),\n",
    "    \"RandomForestRegressor\": RandomForestRegressor(),\n",
    "    \"KNeighborsRegressor\": KNeighborsRegressor(),\n",
    "    \"GradientBoostingRegressor\": GradientBoostingRegressor(),\n",
    "    \"XGBRegressor\": XGBRegressor()\n",
    "}\n",
    "\n",
    "# train and predict each model with evaluation metrics as well making a for loop\n",
    "model_scores = []\n",
    "for name, model in models.items():\n",
    "    model.fit(X_train, y_train)\n",
    "\n",
    "    # make prediction from each model \n",
    "    y_pred = model.predict(X_test)\n",
    "    metric =r2_score (y_test , y_pred)\n",
    "    model_scores.append((name, metric))\n",
    "\n",
    "    # print the performing metric \n",
    "    # print(name,'MSE:', mean_squared_error)\n",
    "    # print(name, 'R2:', r2_score(y_test, y_pred))\n",
    "    # print(name, 'MAE:', mean_absolute_error(y_test, y_pred))\n",
    "    # print('\\n')\n",
    "\n",
    "    # selecting the best model from all above with evalution metrics sorting\n",
    "    sorted_models =sorted(model_scores,key=lambda x: x[1], reverse=True)\n",
    "    for model in sorted_models:\n",
    "        print('r2_score', f\"{model[0]} is {model[1]: 2f}\")\n",
    "\n",
    " \n",
    "    \n",
    "    \n",
    "    "
   ]
  }
 ],
 "metadata": {
  "kernelspec": {
   "display_name": "ML_env",
   "language": "python",
   "name": "python3"
  },
  "language_info": {
   "codemirror_mode": {
    "name": "ipython",
    "version": 3
   },
   "file_extension": ".py",
   "mimetype": "text/x-python",
   "name": "python",
   "nbconvert_exporter": "python",
   "pygments_lexer": "ipython3",
   "version": "3.11.5"
  }
 },
 "nbformat": 4,
 "nbformat_minor": 2
}
