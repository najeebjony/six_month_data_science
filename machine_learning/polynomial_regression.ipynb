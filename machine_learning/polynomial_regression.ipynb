{
 "cells": [
  {
   "cell_type": "markdown",
   "metadata": {},
   "source": [
    "# Polynomial Regression:\n",
    "## Introduction:\n",
    "\n",
    "Polynomial regression is a regression technique that is used to fit a complex function with a higher degree of polynomial than the linear regression model.\n",
    "\n",
    "In this notebook, we will be using the polynomial regression model to predict the salary of an employee based on his/her years of experience.\n",
    "Polynomial regression is a type of non-linear regression that models the relationship between two or more variables\n",
    "as a polynomial function. Polynomial regression fits a nonlinear relationship between the value of x and the corresponding conditional mean of y, denoted E(y |x).\n",
    "Polynomial regression is a type of non-linear regression that models the relationship between two or more variables\n",
    "as a polynomial function.\n",
    "Polynomial regression is an extension of linear regression that allows the relationship between the independent and dependent variables to\n",
    "be modeled as a polynomial function.\n",
    "Polynomial regression fits a nonlinear relationship between the value of x and the corresponding conditional mean of y, denoted E(y |x).\n",
    "Although polynomial regression fits a nonlinear model to the data, as a statistical estimation problem it is linear, in the sense that the regression function E(y | x) is linear in the unknown parameters that are estimated from the data.\n",
    "\n",
    "## Polynomial Regression:\n",
    "\n",
    "Polynomial regression is a special case of linear regression. With the main idea of how do you select your features. You can do that by using a polynomial function to fit your data points. This is a special case of linear regression where you fit a polynomial equation on the data with a curvilinear relationship between the target variable and the independent variables.\n",
    "\n",
    "## Polynomial Regression Algorithm:\n",
    "1. Start by importing the necessary libraries, such as numpy and matplotlib for data manipulation and visual\n",
    "\n",
    "2. Load the dataset\n",
    "\n",
    "\n",
    "3. Split the dataset into training and testing sets\n",
    "\n",
    "\n",
    "4. Fit a polynomial regression model to the training data\n",
    "\n",
    "\n",
    "5. Evaluate the model's performance on the testing data\n",
    "\n",
    "\n",
    "6. Make predictions on new data\n",
    "\n",
    "\n",
    "7. Visualize the predictions\n",
    "\n",
    "\n",
    "8. Save the model\n",
    "\n",
    "\n",
    "9. Load the saved model and make predictions\n",
    "\n",
    "\n",
    "10. Evaluate the model's performance on new data\n",
    "\n",
    "\n",
    "Polynomial Regression is an extension of linear regression that allows us to model non-linear relationships\n",
    "between the independent and dependent variables.\n",
    "The degree of the polynomial represents how far back we look when considering the relationship between the\n",
    "variables.\n",
    "The degree of the polynomial is the highest power of the independent variable that appears in the equation.\n",
    "\n",
    "## Polynomial Regression in Python:\n",
    "\n",
    "Polynomial regression is a special case of linear regression. With the main idea of how do you select your features. You can do that by using a polynomial function to fit your data points. This is a special case of linear regression where you fit a polynomial equation on the data with a curvilinear relationship between the target variable and the independent variables.\n",
    "\n",
    "\n",
    "# Mathematical Formulation:\n",
    "\n",
    "\n",
    "y = mx + b\n",
    "\n",
    "y = dependent variable\n",
    "m = slope\n",
    "x = independent variable\n",
    "b = y-intercept\n",
    "We can write our function as follows:\n",
    "\n",
    "y = mx + b\n",
    "\n",
    "\n",
    "## Polynomial Euqvation \n",
    "\n",
    "![image.png](attachment:image.png)\n",
    "In this image, y = mx + b is a simple linear equation. If we want\n",
    "to find the value of y for a given value of x, we can use the\n",
    "following polynomial equation:\n",
    "\n",
    "\n",
    "y = mx^3 + mx^2 + mx + b\n",
    "python\n",
    "y = mx^3 + mx^2 + mx + b\n",
    "In this equation, we have a polynomial of degree 3. This means\n",
    "that the function is a polynomial of degree 3.\n",
    "The degree of the polynomial represents how far back we look\n",
    "when considering the relationship between the variables.\n",
    "\n",
    "## Polynomial Regression Image auto search \n",
    "\n",
    "![image.png](attachment:image.png)\n",
    "The degree of the polynomial is the highest power of the\n",
    "independent variable that appears in the equation.\n",
    "In this example, we have a polynomial of degree 3. This means\n",
    "that the function is a polynomial of degree 3.\n",
    "The degree of the polynomial represents how far back we look\n",
    "when considering the relationship between the variables.\n",
    "\n",
    "\n",
    "## Polynomial Regression in Python:\n",
    "python\n",
    "import numpy as np\n",
    "import matplotlib.pyplot as plt\n",
    "from sklearn.linear_model import LinearRegression\n",
    "from sklearn.preprocessing import PolynomialFeatures\n",
    "\n",
    "# Generate some sample data\n",
    "x = np.array([1, 2, 3, 4, 5])\n",
    "y = np.array([2, 4, 6, 8, 10])\n",
    "\n",
    "# Create polynomial features\n",
    "poly = PolynomialFeatures(degree=3)\n",
    "X_poly = poly.fit_transform(x.reshape(-1, 1))\n",
    "\n",
    "# Fit linear regression model\n",
    "model = LinearRegression()\n",
    "model.fit(X_poly, y)\n",
    "\n",
    "# Make predictions\n",
    "x_pred = np.array([6, 7, 8])\n",
    "X_pred = poly.transform(x_pred.reshape(-1, 1))\n",
    "y_pred = model.predict(X_pred)\n",
    "\n",
    "# Plot data and predictions\n",
    "plt.scatter(x, y)\n",
    "plt.plot(x_pred, y_pred, color='red')\n",
    "plt.show()\n",
    "In this example, we have a simple linear regression model that\n",
    "represents the relationship between the independent variable\n",
    "x and the dependent variable y.\n",
    "We can write our function as follows:\n",
    "\n",
    "y = mx^3 + mx^2 + mx + b\n",
    "\n",
    "\n"
   ]
  },
  {
   "cell_type": "code",
   "execution_count": 1,
   "metadata": {},
   "outputs": [],
   "source": [
    "import numpy as np\n",
    "import matplotlib.pyplot as plt\n",
    "from sklearn.linear_model import LinearRegression\n",
    "from sklearn.preprocessing import PolynomialFeatures\n"
   ]
  },
  {
   "cell_type": "code",
   "execution_count": 2,
   "metadata": {},
   "outputs": [],
   "source": [
    "x = np.array([1, 2, 3, 4, 5])\n",
    "y = np.array([2, 4, 6, 8, 10])\n"
   ]
  },
  {
   "cell_type": "code",
   "execution_count": 8,
   "metadata": {},
   "outputs": [],
   "source": [
    "poly = PolynomialFeatures(degree=2)\n",
    "X_poly = poly.fit_transform(x.reshape(-1, 1))"
   ]
  },
  {
   "cell_type": "code",
   "execution_count": 9,
   "metadata": {},
   "outputs": [
    {
     "data": {
      "text/html": [
       "<style>#sk-container-id-2 {color: black;background-color: white;}#sk-container-id-2 pre{padding: 0;}#sk-container-id-2 div.sk-toggleable {background-color: white;}#sk-container-id-2 label.sk-toggleable__label {cursor: pointer;display: block;width: 100%;margin-bottom: 0;padding: 0.3em;box-sizing: border-box;text-align: center;}#sk-container-id-2 label.sk-toggleable__label-arrow:before {content: \"▸\";float: left;margin-right: 0.25em;color: #696969;}#sk-container-id-2 label.sk-toggleable__label-arrow:hover:before {color: black;}#sk-container-id-2 div.sk-estimator:hover label.sk-toggleable__label-arrow:before {color: black;}#sk-container-id-2 div.sk-toggleable__content {max-height: 0;max-width: 0;overflow: hidden;text-align: left;background-color: #f0f8ff;}#sk-container-id-2 div.sk-toggleable__content pre {margin: 0.2em;color: black;border-radius: 0.25em;background-color: #f0f8ff;}#sk-container-id-2 input.sk-toggleable__control:checked~div.sk-toggleable__content {max-height: 200px;max-width: 100%;overflow: auto;}#sk-container-id-2 input.sk-toggleable__control:checked~label.sk-toggleable__label-arrow:before {content: \"▾\";}#sk-container-id-2 div.sk-estimator input.sk-toggleable__control:checked~label.sk-toggleable__label {background-color: #d4ebff;}#sk-container-id-2 div.sk-label input.sk-toggleable__control:checked~label.sk-toggleable__label {background-color: #d4ebff;}#sk-container-id-2 input.sk-hidden--visually {border: 0;clip: rect(1px 1px 1px 1px);clip: rect(1px, 1px, 1px, 1px);height: 1px;margin: -1px;overflow: hidden;padding: 0;position: absolute;width: 1px;}#sk-container-id-2 div.sk-estimator {font-family: monospace;background-color: #f0f8ff;border: 1px dotted black;border-radius: 0.25em;box-sizing: border-box;margin-bottom: 0.5em;}#sk-container-id-2 div.sk-estimator:hover {background-color: #d4ebff;}#sk-container-id-2 div.sk-parallel-item::after {content: \"\";width: 100%;border-bottom: 1px solid gray;flex-grow: 1;}#sk-container-id-2 div.sk-label:hover label.sk-toggleable__label {background-color: #d4ebff;}#sk-container-id-2 div.sk-serial::before {content: \"\";position: absolute;border-left: 1px solid gray;box-sizing: border-box;top: 0;bottom: 0;left: 50%;z-index: 0;}#sk-container-id-2 div.sk-serial {display: flex;flex-direction: column;align-items: center;background-color: white;padding-right: 0.2em;padding-left: 0.2em;position: relative;}#sk-container-id-2 div.sk-item {position: relative;z-index: 1;}#sk-container-id-2 div.sk-parallel {display: flex;align-items: stretch;justify-content: center;background-color: white;position: relative;}#sk-container-id-2 div.sk-item::before, #sk-container-id-2 div.sk-parallel-item::before {content: \"\";position: absolute;border-left: 1px solid gray;box-sizing: border-box;top: 0;bottom: 0;left: 50%;z-index: -1;}#sk-container-id-2 div.sk-parallel-item {display: flex;flex-direction: column;z-index: 1;position: relative;background-color: white;}#sk-container-id-2 div.sk-parallel-item:first-child::after {align-self: flex-end;width: 50%;}#sk-container-id-2 div.sk-parallel-item:last-child::after {align-self: flex-start;width: 50%;}#sk-container-id-2 div.sk-parallel-item:only-child::after {width: 0;}#sk-container-id-2 div.sk-dashed-wrapped {border: 1px dashed gray;margin: 0 0.4em 0.5em 0.4em;box-sizing: border-box;padding-bottom: 0.4em;background-color: white;}#sk-container-id-2 div.sk-label label {font-family: monospace;font-weight: bold;display: inline-block;line-height: 1.2em;}#sk-container-id-2 div.sk-label-container {text-align: center;}#sk-container-id-2 div.sk-container {/* jupyter's `normalize.less` sets `[hidden] { display: none; }` but bootstrap.min.css set `[hidden] { display: none !important; }` so we also need the `!important` here to be able to override the default hidden behavior on the sphinx rendered scikit-learn.org. See: https://github.com/scikit-learn/scikit-learn/issues/21755 */display: inline-block !important;position: relative;}#sk-container-id-2 div.sk-text-repr-fallback {display: none;}</style><div id=\"sk-container-id-2\" class=\"sk-top-container\"><div class=\"sk-text-repr-fallback\"><pre>LinearRegression()</pre><b>In a Jupyter environment, please rerun this cell to show the HTML representation or trust the notebook. <br />On GitHub, the HTML representation is unable to render, please try loading this page with nbviewer.org.</b></div><div class=\"sk-container\" hidden><div class=\"sk-item\"><div class=\"sk-estimator sk-toggleable\"><input class=\"sk-toggleable__control sk-hidden--visually\" id=\"sk-estimator-id-2\" type=\"checkbox\" checked><label for=\"sk-estimator-id-2\" class=\"sk-toggleable__label sk-toggleable__label-arrow\">LinearRegression</label><div class=\"sk-toggleable__content\"><pre>LinearRegression()</pre></div></div></div></div></div>"
      ],
      "text/plain": [
       "LinearRegression()"
      ]
     },
     "execution_count": 9,
     "metadata": {},
     "output_type": "execute_result"
    }
   ],
   "source": [
    "# Fit linear regression model\n",
    "model = LinearRegression()\n",
    "model.fit(X_poly, y)\n"
   ]
  },
  {
   "cell_type": "code",
   "execution_count": 6,
   "metadata": {},
   "outputs": [],
   "source": [
    "# Make predictions\n",
    "x_pred = np.array([6, 7, 8])\n",
    "X_pred = poly.transform(x_pred.reshape(-1, 1))\n",
    "y_pred = model.predict(X_pred)\n"
   ]
  },
  {
   "cell_type": "code",
   "execution_count": 11,
   "metadata": {},
   "outputs": [
    {
     "data": {
      "image/png": "[encoded data removed]",
      "text/plain": [
       "<Figure size 640x480 with 1 Axes>"
      ]
     },
     "metadata": {},
     "output_type": "display_data"
    }
   ],
   "source": [
    "# Plot data and predictions\n",
    "plt.scatter(x, y)\n",
    "plt.plot(x_pred, y_pred, color='blue')\n",
    "plt.show()"
   ]
  }
 ],
 "metadata": {
  "kernelspec": {
   "display_name": "ML_env",
   "language": "python",
   "name": "python3"
  },
  "language_info": {
   "codemirror_mode": {
    "name": "ipython",
    "version": 3
   },
   "file_extension": ".py",
   "mimetype": "text/x-python",
   "name": "python",
   "nbconvert_exporter": "python",
   "pygments_lexer": "ipython3",
   "version": "3.11.5"
  }
 },
 "nbformat": 4,
 "nbformat_minor": 2
}
