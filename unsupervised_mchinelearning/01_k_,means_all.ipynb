{
 "cells": [
  {
   "cell_type": "markdown",
   "metadata": {},
   "source": [
    "- ## Author :  **Najeebullah**\n",
    "-  Date :  2024-01-21\n"
   ]
  },
  {
   "cell_type": "markdown",
   "metadata": {},
   "source": [
    "# **Unsupervised Machine-Learning (K-Means Clustering)**"
   ]
  },
  {
   "cell_type": "markdown",
   "metadata": {},
   "source": [
    "# K-means Clustering \n",
    "\n",
    "## Introduction\n",
    "The goal of this project is to implement the k-means clustering algorithm from scratch in Python\n",
    "and use it to cluster a set of data points. The dataset used in this project is the  dataset,\n",
    "\n",
    "- K-mean culstering is a type of unsupervided machine-learing algorithm\n",
    "- it work on unlabeled data \n",
    "- it make culster from unlabeled data "
   ]
  },
  {
   "cell_type": "markdown",
   "metadata": {},
   "source": [
    "# **Example**"
   ]
  },
  {
   "cell_type": "code",
   "execution_count": 1,
   "metadata": {},
   "outputs": [],
   "source": [
    "from sklearn.cluster import KMeans\n",
    "from sklearn.datasets import make_blobs\n",
    "import matplotlib.pyplot as plt \n",
    "\n",
    "# generate sample data \n",
    "X, y = make_blobs(n_samples=300, centers=4, cluster_std=0.60, random_state=0)\n",
    "\n",
    "# initiate a kmeans object with the number of cluster\n",
    "kmeans = KMeans(n_clusters=4)\n",
    "\n",
    "# fit the data to the KMeans algorithm\n",
    "kmeans.fit(X)\n",
    "\n",
    "# get the predicted cluster labels for each data point \n",
    "labels = kmeans.predict(X)"
   ]
  }
 ],
 "metadata": {
  "kernelspec": {
   "display_name": "ML_env",
   "language": "python",
   "name": "python3"
  },
  "language_info": {
   "codemirror_mode": {
    "name": "ipython",
    "version": 3
   },
   "file_extension": ".py",
   "mimetype": "text/x-python",
   "name": "python",
   "nbconvert_exporter": "python",
   "pygments_lexer": "ipython3",
   "version": "3.11.5"
  }
 },
 "nbformat": 4,
 "nbformat_minor": 2
}
