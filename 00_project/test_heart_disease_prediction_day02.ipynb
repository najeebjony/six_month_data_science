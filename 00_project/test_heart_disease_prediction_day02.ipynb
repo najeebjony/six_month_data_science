import unittest

class TestMissingValues(unittest.TestCase):
    def test_missing_values(self):
        # Your test code here
        pass

if __name__ == '__main__':
    unittest.main()