{
 "cells": [
  {
   "cell_type": "code",
   "execution_count": 1,
   "metadata": {},
   "outputs": [
    {
     "name": "stdout",
     "output_type": "stream",
     "text": [
      "0\n",
      "1\n",
      "2\n",
      "3\n",
      "4\n",
      "5\n",
      "6\n",
      "7\n",
      "8\n",
      "9\n"
     ]
    }
   ],
   "source": [
    "x = 0 \n",
    "while x < 10:\n",
    "    print(x)\n",
    "    x = x + 1"
   ]
  },
  {
   "cell_type": "code",
   "execution_count": 3,
   "metadata": {},
   "outputs": [
    {
     "name": "stdout",
     "output_type": "stream",
     "text": [
      "10\n",
      "11\n",
      "12\n",
      "13\n",
      "14\n",
      "15\n",
      "16\n",
      "17\n",
      "18\n",
      "19\n",
      "20\n",
      "21\n",
      "22\n",
      "23\n",
      "24\n",
      "25\n",
      "26\n",
      "27\n",
      "28\n"
     ]
    }
   ],
   "source": [
    "for i in range (10,29):\n",
    "    print(i)"
   ]
  },
  {
   "cell_type": "code",
   "execution_count": 8,
   "metadata": {},
   "outputs": [
    {
     "name": "stdout",
     "output_type": "stream",
     "text": [
      "Mon\n",
      "Tue\n"
     ]
    }
   ],
   "source": [
    "days =  [ \"Mon\",\"Tue\",\"Wed\",\"Thurs\",\"Sat\",\"Sun\"]\n",
    "\n",
    "for i in days:\n",
    "    # if i ==\"Fri\":continue\n",
    "    if i ==\"Wed\":break\n",
    "    print(i)\n",
    "\n",
    " "
   ]
  },
  {
   "cell_type": "code",
   "execution_count": 9,
   "metadata": {},
   "outputs": [
    {
     "name": "stdout",
     "output_type": "stream",
     "text": [
      "apple palak\n",
      "apple gobi\n",
      "apple bhinadi\n",
      "apple tamator\n",
      "apple alu\n",
      "mangoes palak\n",
      "mangoes gobi\n",
      "mangoes bhinadi\n",
      "mangoes tamator\n",
      "mangoes alu\n",
      "banana palak\n",
      "banana gobi\n",
      "banana bhinadi\n",
      "banana tamator\n",
      "banana alu\n",
      "peach palak\n",
      "peach gobi\n",
      "peach bhinadi\n",
      "peach tamator\n",
      "peach alu\n",
      "pienapple palak\n",
      "pienapple gobi\n",
      "pienapple bhinadi\n",
      "pienapple tamator\n",
      "pienapple alu\n"
     ]
    }
   ],
   "source": [
    "furit = [\"apple\",\"mangoes\",\"banana\",\"peach\",\"pienapple\"]\n",
    "sabzi = [\"palak\",\"gobi\",\"bhinadi\",\"tamator\",\"alu\"]\n",
    "\n",
    "for i in furit:\n",
    "    for j in sabzi:\n",
    "        print(i,j)\n"
   ]
  }
 ],
 "metadata": {
  "kernelspec": {
   "display_name": "Python 3",
   "language": "python",
   "name": "python3"
  },
  "language_info": {
   "codemirror_mode": {
    "name": "ipython",
    "version": 3
   },
   "file_extension": ".py",
   "mimetype": "text/x-python",
   "name": "python",
   "nbconvert_exporter": "python",
   "pygments_lexer": "ipython3",
   "version": "3.10.11"
  }
 },
 "nbformat": 4,
 "nbformat_minor": 2
}
